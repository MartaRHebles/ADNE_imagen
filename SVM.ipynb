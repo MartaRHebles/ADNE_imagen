{
 "cells": [
  {
   "cell_type": "markdown",
   "metadata": {},
   "source": [
    "### Modelo clásico (SVM) con HOG"
   ]
  },
  {
   "cell_type": "markdown",
   "metadata": {},
   "source": [
    "### IMPORT LIBRARIES"
   ]
  },
  {
   "cell_type": "code",
   "execution_count": 16,
   "metadata": {},
   "outputs": [],
   "source": [
    "import os, io, random\n",
    "import pandas as pd\n",
    "import numpy as np\n",
    "import cv2\n",
    "import matplotlib.pyplot as plt\n",
    "import seaborn as sns\n",
    "import tensorflow as tf\n",
    "import math\n",
    "from tensorflow.keras.preprocessing.image import ImageDataGenerator, load_img, img_to_array\n",
    "from sklearn.utils.class_weight import compute_class_weight\n",
    "from PIL import Image\n",
    "from collections import Counter\n",
    "import pathlib, shutil\n",
    "from sklearn.metrics import classification_report, confusion_matrix"
   ]
  },
  {
   "cell_type": "markdown",
   "metadata": {},
   "source": [
    "### LOAD DATA"
   ]
  },
  {
   "cell_type": "code",
   "execution_count": 24,
   "metadata": {},
   "outputs": [],
   "source": [
    "base_dir= \"skin-lesions\"\n",
    "\n",
    "train_dir = os.path.join(base_dir, \"train\")\n",
    "val_dir = os.path.join(base_dir, \"valid\")\n",
    "test_dir = os.path.join(base_dir, \"test\")\n",
    "\n",
    "classes = ['melanoma', 'seborrheic_keratosis', 'nevus']"
   ]
  },
  {
   "cell_type": "markdown",
   "metadata": {},
   "source": [
    "BALANCEO DE CLASES ELIMINANDO IMAGENES DE LA CLASE MAYORITARIA (YA EXPLICADO EN EL EDA)"
   ]
  },
  {
   "cell_type": "code",
   "execution_count": 25,
   "metadata": {},
   "outputs": [
    {
     "name": "stdout",
     "output_type": "stream",
     "text": [
      "Conservadas 374 imágenes de nevus.\n",
      "Descartadas 0 → skin-lesions/train/_discarded\n",
      "Lista de imágenes conservadas guardada en nevus_kept.txt\n"
     ]
    }
   ],
   "source": [
    "ROOT = pathlib.Path(\"skin-lesions/train\")  \n",
    "KEEP_RATIO = 1.0                   \n",
    "\n",
    "melanoma_dir   = ROOT / \"melanoma\"\n",
    "nevus_dir      = ROOT / \"nevus\"\n",
    "discarded_dir  = nevus_dir.parent / \"_discarded\"\n",
    "discarded_dir.mkdir(exist_ok=True)\n",
    "\n",
    "n_melanoma = len(list(melanoma_dir.glob(\"*\")))\n",
    "nevus_imgs = sorted(nevus_dir.glob(\"*\"))                # orden fijo\n",
    "max_nevus  = int(n_melanoma * KEEP_RATIO)\n",
    "keep_nevus = nevus_imgs[:max_nevus]                     # mismas siempre\n",
    "drop_nevus = nevus_imgs[max_nevus:]\n",
    "\n",
    "\n",
    "for img in drop_nevus:\n",
    "    shutil.move(str(img), discarded_dir / img.name)     # usa os.remove() para borrar\n",
    "\n",
    "print(f\"Conservadas {len(keep_nevus)} imágenes de nevus.\")\n",
    "print(f\"Descartadas {len(drop_nevus)} → {discarded_dir}\")\n",
    "\n",
    "# Guardar la lista para control de versiones\n",
    "with open(\"nevus_kept.txt\", \"w\", encoding=\"utf-8\") as f:\n",
    "    f.writelines(f\"{p.name}\\n\" for p in keep_nevus)\n",
    "print(\"Lista de imágenes conservadas guardada en nevus_kept.txt\")\n"
   ]
  },
  {
   "cell_type": "markdown",
   "metadata": {},
   "source": [
    "### FEATURE EXTRACTION"
   ]
  },
  {
   "cell_type": "markdown",
   "metadata": {},
   "source": [
    "Se procesan todas las imágenes del conjunto de entrenamiento para construir un vector de características por imagen. \n",
    "Se combinan tres tipos de información:\n",
    "\n",
    "Forma: usando HOG (Histogram of Oriented Gradients) sobre una versión en escala de grises de la imagen.\n",
    "\n",
    "Color: media y desviación típica de los canales R, G y B.\n",
    "\n",
    "Textura: entropía de Shannon como medida global de complejidad.\n",
    "\n",
    "Cada imagen queda representada por un único vector numérico que resume su estructura, color y textura. Estos vectores se usarán como entrada para los modelos clásicos de clasificación."
   ]
  },
  {
   "cell_type": "code",
   "execution_count": null,
   "metadata": {},
   "outputs": [],
   "source": [
    "IMG_SIZE = (224, 224)  \n",
    "label_map = {cls: idx for idx, cls in enumerate(classes)}\n",
    "\n",
    "from skimage.measure import shannon_entropy\n",
    "\n",
    "X = []\n",
    "y = []\n",
    "img_paths = []\n",
    "\n",
    "for cls in classes:\n",
    "    class_dir = os.path.join(\"skin-lesions/train\", cls)\n",
    "    for img_name in os.listdir(class_dir):\n",
    "        img_path = os.path.join(class_dir, img_name)\n",
    "        img_paths.append(img_path)\n",
    "        label = label_map[cls]\n",
    "        y.append(label)\n",
    "\n",
    "        # Leer imagen RGB\n",
    "        img = imread(img_path)\n",
    "        img_resized = cv2.resize(img, (224, 224))\n",
    "\n",
    "        # Extraer HOG de escala de grises\n",
    "        if img_resized.ndim == 3:\n",
    "            gray = rgb2gray(img_resized)\n",
    "        else:\n",
    "            gray = img_resized\n",
    "        hog_feat = hog(gray, pixels_per_cell=(16, 16), cells_per_block=(2, 2), feature_vector=True)\n",
    "\n",
    "        # Color: media y std de cada canal RGB\n",
    "        if img_resized.ndim == 3:\n",
    "            r_mean, g_mean, b_mean = np.mean(img_resized, axis=(0, 1))\n",
    "            r_std, g_std, b_std = np.std(img_resized, axis=(0, 1))\n",
    "        else:\n",
    "            r_mean = g_mean = b_mean = np.mean(img_resized)\n",
    "            r_std = g_std = b_std = np.std(img_resized)\n",
    "\n",
    "        # Textura: entropía\n",
    "        entropy = shannon_entropy(gray)\n",
    "\n",
    "        # Concatenar todo en un único vector\n",
    "        extra_features = [r_mean, g_mean, b_mean, r_std, g_std, b_std, entropy]\n",
    "        full_features = np.concatenate([hog_feat, extra_features])\n",
    "        X.append(full_features)\n",
    "\n",
    "X = np.array(X)\n",
    "y = np.array(y)"
   ]
  },
  {
   "cell_type": "markdown",
   "metadata": {},
   "source": [
    "### ENTRENO DEL MODELO DE ML"
   ]
  },
  {
   "cell_type": "markdown",
   "metadata": {},
   "source": [
    "Se divide el conjunto de datos en entrenamiento y test conservando la proporción de clases (stratify=y). A continuación, se entrena un clasificador SVM con kernel lineal sobre los vectores de características manuales (HOG + color + textura). Finalmente, se evalúa el rendimiento sobre el conjunto de test mediante métricas estándar como precisión, recall y F1-score para cada clase. También se genera la matriz de confusión para analizar visualmente qué clases tienden a confundirse. Cada celda muestra el número de imágenes clasificadas en cada combinación de predicción y etiqueta real. Esta representación permite detectar patrones de error, como confusiones frecuentes entre nevus y melanoma."
   ]
  },
  {
   "cell_type": "code",
   "execution_count": 27,
   "metadata": {},
   "outputs": [
    {
     "name": "stdout",
     "output_type": "stream",
     "text": [
      "                      precision    recall  f1-score   support\n",
      "\n",
      "            melanoma       0.57      0.60      0.58        75\n",
      "seborrheic_keratosis       0.74      0.67      0.70        51\n",
      "               nevus       0.72      0.73      0.73        75\n",
      "\n",
      "            accuracy                           0.67       201\n",
      "           macro avg       0.68      0.67      0.67       201\n",
      "        weighted avg       0.67      0.67      0.67       201\n",
      "\n"
     ]
    }
   ],
   "source": [
    "X_train, X_test, y_train, y_test = train_test_split(X, y, stratify=y, test_size=0.2, random_state=42)\n",
    "\n",
    "clf = SVC(kernel='linear')  # puedes probar también 'rbf' o usar GridSearchCV\n",
    "clf.fit(X_train, y_train)\n",
    "\n",
    "y_pred = clf.predict(X_test)\n",
    "print(classification_report(y_test, y_pred, target_names=classes))"
   ]
  },
  {
   "cell_type": "code",
   "execution_count": 29,
   "metadata": {},
   "outputs": [
    {
     "data": {
      "image/png": "[encoded data removed]",
      "text/plain": [
       "<Figure size 600x500 with 2 Axes>"
      ]
     },
     "metadata": {},
     "output_type": "display_data"
    }
   ],
   "source": [
    "cm = confusion_matrix(y_test, y_pred)\n",
    "\n",
    "plt.figure(figsize=(6,5))\n",
    "sns.heatmap(cm, annot=True, fmt=\"d\", cmap=\"Blues\", xticklabels=classes, yticklabels=classes)\n",
    "plt.title(\"Matriz de confusión (modelo HOG + SVM)\")\n",
    "plt.xlabel(\"Predicción\")\n",
    "plt.ylabel(\"Verdadero\")\n",
    "plt.tight_layout()\n",
    "plt.show()"
   ]
  },
  {
   "cell_type": "markdown",
   "metadata": {},
   "source": [
    "### RESULTADOS DEL MODELO"
   ]
  },
  {
   "cell_type": "markdown",
   "metadata": {},
   "source": [
    "El clasificador SVM entrenado sobre las características manuales (HOG + color + textura) obtiene un accuracy del 67 %, con un rendimiento equilibrado entre clases.\n",
    "\n",
    "La clase “nevus” es la mejor reconocida (F1 = 0.73), seguida de seborrheic keratosis (F1 = 0.70).\n",
    "La clase “melanoma” obtiene un F1 de 0.58, aceptable pero con margen de mejora.\n",
    "\n",
    "La matriz de confusión muestra que los errores más frecuentes se dan al confundir melanomas con nevus, lo cual es clínicamente significativo y refleja la dificultad de diferenciar visualmente entre estas dos clases."
   ]
  },
  {
   "cell_type": "markdown",
   "metadata": {},
   "source": []
  }
 ],
 "metadata": {
  "kernelspec": {
   "display_name": "base",
   "language": "python",
   "name": "python3"
  },
  "language_info": {
   "codemirror_mode": {
    "name": "ipython",
    "version": 3
   },
   "file_extension": ".py",
   "mimetype": "text/x-python",
   "name": "python",
   "nbconvert_exporter": "python",
   "pygments_lexer": "ipython3",
   "version": "3.12.4"
  }
 },
 "nbformat": 4,
 "nbformat_minor": 2
}
