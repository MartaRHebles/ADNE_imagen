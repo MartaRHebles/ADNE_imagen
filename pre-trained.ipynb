{
 "cells": [
  {
   "cell_type": "markdown",
   "id": "afd39735",
   "metadata": {},
   "source": [
    "# Pre trained model \n",
    "Para clasificar imágenes, uno de los modelos preentrenados más populares y efectivos es ResNet (Residual Networks), específicamente ResNet50, que es una red profunda muy eficiente para tareas de clasificación de imágenes."
   ]
  },
  {
   "cell_type": "code",
   "execution_count": 5,
   "id": "14e92338",
   "metadata": {},
   "outputs": [
    {
     "ename": "ModuleNotFoundError",
     "evalue": "No module named 'matplotlib'",
     "output_type": "error",
     "traceback": [
      "\u001b[31m---------------------------------------------------------------------------\u001b[39m",
      "\u001b[31mModuleNotFoundError\u001b[39m                       Traceback (most recent call last)",
      "\u001b[36mCell\u001b[39m\u001b[36m \u001b[39m\u001b[32mIn[5]\u001b[39m\u001b[32m, line 1\u001b[39m\n\u001b[32m----> \u001b[39m\u001b[32m1\u001b[39m \u001b[38;5;28;01mimport\u001b[39;00m\u001b[38;5;250m \u001b[39m\u001b[34;01mmatplotlib\u001b[39;00m\u001b[34;01m.\u001b[39;00m\u001b[34;01mpyplot\u001b[39;00m\u001b[38;5;250m \u001b[39m\u001b[38;5;28;01mas\u001b[39;00m\u001b[38;5;250m \u001b[39m\u001b[34;01mplt\u001b[39;00m\n\u001b[32m      2\u001b[39m \u001b[38;5;28;01mimport\u001b[39;00m\u001b[38;5;250m \u001b[39m\u001b[34;01mtensorflow\u001b[39;00m\u001b[38;5;250m \u001b[39m\u001b[38;5;28;01mas\u001b[39;00m\u001b[38;5;250m \u001b[39m\u001b[34;01mtf\u001b[39;00m\n\u001b[32m      3\u001b[39m \u001b[38;5;28;01mfrom\u001b[39;00m\u001b[38;5;250m \u001b[39m\u001b[34;01mtensorflow\u001b[39;00m\u001b[34;01m.\u001b[39;00m\u001b[34;01mkeras\u001b[39;00m\u001b[34;01m.\u001b[39;00m\u001b[34;01mpreprocessing\u001b[39;00m\u001b[38;5;250m \u001b[39m\u001b[38;5;28;01mimport\u001b[39;00m image_dataset_from_directory\n",
      "\u001b[31mModuleNotFoundError\u001b[39m: No module named 'matplotlib'"
     ]
    }
   ],
   "source": [
    "import matplotlib.pyplot as plt\n",
    "import tensorflow as tf\n",
    "from tensorflow.keras.preprocessing import image_dataset_from_directory\n",
    "from tensorflow.keras import layers, models\n",
    "from tensorflow.keras.applications import ResNet50\n",
    "from tensorflow.keras.optimizers import Adam"
   ]
  },
  {
   "cell_type": "markdown",
   "id": "6d5104b5",
   "metadata": {},
   "source": [
    " Cargamos ResNet50 sin la capa final de clasificación (include_top=False), ya que vamos a agregar nuestra propia capa de clasificación según nuestro número de clases.\n",
    "\n",
    " ResNet50 requiere que las imágenes sean redimensionadas a 224x224 píxeles y que sus valores estén normalizados de acuerdo con los valores que fueron utilizados para entrenar el modelo preentrenado"
   ]
  },
  {
   "cell_type": "code",
   "execution_count": null,
   "id": "8ff74304",
   "metadata": {},
   "outputs": [
    {
     "ename": "NameError",
     "evalue": "name 'VGG16' is not defined",
     "output_type": "error",
     "traceback": [
      "\u001b[31m---------------------------------------------------------------------------\u001b[39m",
      "\u001b[31mNameError\u001b[39m                                 Traceback (most recent call last)",
      "\u001b[36mCell\u001b[39m\u001b[36m \u001b[39m\u001b[32mIn[1]\u001b[39m\u001b[32m, line 1\u001b[39m\n\u001b[32m----> \u001b[39m\u001b[32m1\u001b[39m conv_base = \u001b[43mVGG16\u001b[49m(weights=\u001b[33m'\u001b[39m\u001b[33mimagenet\u001b[39m\u001b[33m'\u001b[39m,\n\u001b[32m      2\u001b[39m                   include_top=\u001b[38;5;28;01mFalse\u001b[39;00m,\n\u001b[32m      3\u001b[39m                   input_shape=(\u001b[32m150\u001b[39m, \u001b[32m150\u001b[39m, \u001b[32m3\u001b[39m))\n",
      "\u001b[31mNameError\u001b[39m: name 'VGG16' is not defined"
     ]
    }
   ],
   "source": [
    "# Cargar el modelo preentrenado ResNet50 sin la capa final de clasificación\n",
    "base_model = ResNet50(weights='imagenet', include_top=False, input_shape=(224, 224, 3))\n",
    "base_model.trainable = False  # Congelar las capas del modelo base"
   ]
  },
  {
   "cell_type": "markdown",
   "id": "57f54ce9",
   "metadata": {},
   "source": [
    "Añadimos una capa densa con 3 unidades y la activación softmax para clasificación multiclase."
   ]
  },
  {
   "cell_type": "code",
   "execution_count": null,
   "id": "ef7b07e3",
   "metadata": {},
   "outputs": [],
   "source": [
    "# Crear el modelo completo añadiendo capas para la clasificación\n",
    "model = models.Sequential([\n",
    "    base_model,\n",
    "    layers.GlobalAveragePooling2D(),  # Promedio global de las características\n",
    "    layers.Dense(1024, activation='relu'),  # Capa densa para aprender representaciones\n",
    "    layers.Dense(3, activation='softmax')  # 3 clases \n",
    "])"
   ]
  },
  {
   "cell_type": "code",
   "execution_count": null,
   "id": "82784708",
   "metadata": {},
   "outputs": [],
   "source": [
    "model.compile(optimizer=Adam(), loss='sparse_categorical_crossentropy', metrics=['accuracy'])"
   ]
  },
  {
   "cell_type": "markdown",
   "id": "684c3e7d",
   "metadata": {},
   "source": [
    "Usamos image_dataset_from_directory para cargar las imágenes desde directorios"
   ]
  },
  {
   "cell_type": "code",
   "execution_count": null,
   "id": "e313b713",
   "metadata": {},
   "outputs": [],
   "source": [
    "# Preprocesamiento y carga del dataset (asegúrate de tener imágenes en carpetas de cada clase)\n",
    "train_dir = 'path/to/train'  # Cambia esto por la ruta a tu carpeta de imágenes de entrenamiento\n",
    "validation_dir = 'path/to/validation'  # Cambia esto por la ruta a tu carpeta de validación\n",
    "\n",
    "train_dataset = image_dataset_from_directory(\n",
    "    train_dir,\n",
    "    image_size=(224, 224),\n",
    "    batch_size=32,\n",
    ")\n",
    "\n",
    "validation_dataset = image_dataset_from_directory(\n",
    "    validation_dir,\n",
    "    image_size=(224, 224),\n",
    "    batch_size=32,\n",
    ")"
   ]
  },
  {
   "cell_type": "markdown",
   "id": "853a8dee",
   "metadata": {},
   "source": [
    "Entrenamos el modelo con nuestro conjunto de datos"
   ]
  },
  {
   "cell_type": "code",
   "execution_count": null,
   "id": "1524111b",
   "metadata": {},
   "outputs": [],
   "source": [
    "model.fit(\n",
    "    train_dataset,\n",
    "    epochs=10,  # épocas de entrenamiento\n",
    "    validation_data=validation_dataset\n",
    ")"
   ]
  },
  {
   "cell_type": "code",
   "execution_count": null,
   "id": "1d317037",
   "metadata": {},
   "outputs": [],
   "source": [
    "# Curva de loss\n",
    "plt.figure(figsize=(12, 6))\n",
    "plt.subplot(1, 2, 1)\n",
    "plt.plot(history.history['loss'], label='Training Loss')\n",
    "plt.plot(history.history['val_loss'], label='Validation Loss')\n",
    "plt.title('Training and Validation Loss')\n",
    "plt.xlabel('Epochs')\n",
    "plt.ylabel('Loss')\n",
    "plt.legend()\n",
    "\n",
    "# Accuracy\n",
    "plt.subplot(1, 2, 2)\n",
    "plt.plot(history.history['accuracy'], label='Training Accuracy')\n",
    "plt.plot(history.history['val_accuracy'], label='Validation Accuracy')\n",
    "plt.title('Training and Validation Accuracy')\n",
    "plt.xlabel('Epochs')\n",
    "plt.ylabel('Accuracy')\n",
    "plt.legend()\n",
    "\n",
    "# Mostrar las gráficas\n",
    "plt.tight_layout()\n",
    "plt.show()"
   ]
  },
  {
   "cell_type": "markdown",
   "id": "9df718b6",
   "metadata": {},
   "source": [
    "Después de entrenar las capas superiores, hacemos \"fine-tuning\" desbloqueando algunas capas del modelo base y entrenando nuevamente con una tasa de aprendizaje menor."
   ]
  },
  {
   "cell_type": "code",
   "execution_count": null,
   "id": "c721a98c",
   "metadata": {},
   "outputs": [],
   "source": [
    "\n",
    "# Fine-tuning del modelo, desbloquear algunas capas y reentrenar\n",
    "base_model.trainable = True\n",
    "fine_tune_at = 100  # Elige en qué capa comenzará a entrenar\n",
    "\n",
    "for layer in base_model.layers[:fine_tune_at]:\n",
    "    layer.trainable = False\n",
    "\n",
    "model.compile(optimizer=Adam(learning_rate=1e-5), loss='sparse_categorical_crossentropy', metrics=['accuracy'])\n",
    "\n",
    "# Entrenar nuevamente con las capas desbloqueadas\n",
    "model.fit(\n",
    "    train_dataset,\n",
    "    epochs=5,\n",
    "    validation_data=validation_dataset\n",
    ")"
   ]
  }
 ],
 "metadata": {
  "kernelspec": {
   "display_name": "Python 3",
   "language": "python",
   "name": "python3"
  },
  "language_info": {
   "codemirror_mode": {
    "name": "ipython",
    "version": 3
   },
   "file_extension": ".py",
   "mimetype": "text/x-python",
   "name": "python",
   "nbconvert_exporter": "python",
   "pygments_lexer": "ipython3",
   "version": "3.12.4"
  }
 },
 "nbformat": 4,
 "nbformat_minor": 5
}
